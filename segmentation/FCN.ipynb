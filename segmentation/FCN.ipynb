{
 "cells": [
  {
   "attachments": {},
   "cell_type": "markdown",
   "metadata": {},
   "source": [
    "# FCN"
   ]
  },
  {
   "cell_type": "code",
   "execution_count": null,
   "metadata": {},
   "outputs": [],
   "source": [
    "import torch\n",
    "import torch.nn as nn\n",
    "from torch.utils.data import Dataset, DataLoader\n",
    "import torchvision\n",
    "from torchvision import transforms, models\n",
    "import torchmetrics\n",
    "\n",
    "import os\n",
    "import numpy as np\n",
    "import matplotlib.pyplot as plt\n",
    "from PIL import Image"
   ]
  },
  {
   "cell_type": "code",
   "execution_count": null,
   "metadata": {},
   "outputs": [],
   "source": [
    "device = torch.device(\"cuda\" if torch.cuda.is_available() else \"mps\" if torch.backends.mps.is_available() else \"cpu\")\n",
    "print(device)"
   ]
  },
  {
   "attachments": {},
   "cell_type": "markdown",
   "metadata": {},
   "source": [
    "## Dataset"
   ]
  },
  {
   "cell_type": "code",
   "execution_count": null,
   "metadata": {},
   "outputs": [],
   "source": [
    "data_dir = '../dataset/'\n",
    "train_dir = data_dir + 'train/'\n",
    "val_dir = data_dir + 'val/'\n",
    "unlabel_dir = data_dir + 'unlabeled/'"
   ]
  },
  {
   "cell_type": "code",
   "execution_count": null,
   "metadata": {},
   "outputs": [],
   "source": [
    "class MaskDataset(Dataset):\n",
    "    def __init__(self, root='../dataset/val/', transform=None):\n",
    "        self.root = root\n",
    "        self.transform = transform\n",
    "        self.vid_list = sorted(os.listdir(root))\n",
    "        self.img_list = ['image_' + str(i) + '.png' for i in range(22)]\n",
    "    \n",
    "    def __len__(self):\n",
    "        return len(self.vid_list) * 22\n",
    "\n",
    "    def __getitem__(self, idx):\n",
    "        vid_idx = idx // 22\n",
    "        img_idx = idx % 22\n",
    "        # load image\n",
    "        img_path = os.path.join(self.root, self.vid_list[vid_idx], self.img_list[img_idx])\n",
    "        img = Image.open(img_path).convert(\"RGB\")\n",
    "        # load mask\n",
    "        mask_path = os.path.join(self.root, self.vid_list[vid_idx], 'mask.npy')\n",
    "        target = np.load(mask_path)[img_idx]\n",
    "        # transforms\n",
    "        if self.transform is not None:\n",
    "            img = self.transform(img)\n",
    "        return img, target"
   ]
  },
  {
   "cell_type": "code",
   "execution_count": null,
   "metadata": {},
   "outputs": [],
   "source": [
    "import torchvision.transforms as T\n",
    "\n",
    "transform = T.Compose([\n",
    "    T.PILToTensor(),\n",
    "    T.ConvertImageDtype(torch.float),\n",
    "    T.Normalize(mean=[0.485, 0.456, 0.406], std=[0.229, 0.224, 0.225]),\n",
    "])\n",
    "dataset_train = MaskDataset(transform=transform)"
   ]
  },
  {
   "cell_type": "code",
   "execution_count": null,
   "metadata": {},
   "outputs": [],
   "source": [
    "dataloader = DataLoader(\n",
    "    dataset_train,\n",
    "    batch_size=8,\n",
    "    shuffle=True,\n",
    ")\n",
    "\n",
    "img, target = next(iter(dataloader))\n",
    "print(img.shape, target.shape)"
   ]
  },
  {
   "attachments": {},
   "cell_type": "markdown",
   "metadata": {},
   "source": [
    "## Data Augmentation"
   ]
  },
  {
   "cell_type": "code",
   "execution_count": null,
   "metadata": {},
   "outputs": [],
   "source": [
    "import torchvision.transforms as T\n",
    "\n",
    "brightness = 0.4\n",
    "contrast = 0.4\n",
    "saturation = 0.4\n",
    "\n",
    "transform = T.Compose([\n",
    "    T.RandomResizedCrop(size=(160, 240), scale=(0.8, 1.0)),\n",
    "    T.RandomHorizontalFlip(),\n",
    "    T.RandomVerticalFlip(),\n",
    "    T.ColorJitter(\n",
    "        brightness=0.4,\n",
    "        contrast=0.4,\n",
    "        saturation=0.4,\n",
    "    ),\n",
    "    T.RandomAdjustSharpness(sharpness_factor=5), \n",
    "    T.GaussianBlur(kernel_size=(3, 9), sigma=(0.1, 2)),\n",
    "    T.RandomGrayscale(p=0.1),\n",
    "    # T.PILToTensor(),\n",
    "    # T.ConvertImageDtype(torch.float),\n",
    "    # T.Normalize(mean=[0.485, 0.456, 0.406], std=[0.229, 0.224, 0.225]),\n",
    "])\n",
    "dataset_train = MaskDataset(transform=transform)\n",
    "dataset_train[0][0]"
   ]
  },
  {
   "cell_type": "code",
   "execution_count": null,
   "metadata": {},
   "outputs": [],
   "source": [
    "dataloader = DataLoader(dataset_train, batch_size=8, shuffle=True)\n",
    "img, target = next(iter(dataloader))"
   ]
  },
  {
   "attachments": {},
   "cell_type": "markdown",
   "metadata": {},
   "source": [
    "## Train"
   ]
  },
  {
   "cell_type": "code",
   "execution_count": null,
   "metadata": {},
   "outputs": [],
   "source": [
    "lr = 1e-2\n",
    "batch_size = 8"
   ]
  },
  {
   "cell_type": "code",
   "execution_count": null,
   "metadata": {},
   "outputs": [],
   "source": [
    "dataloader = DataLoader(dataset_train, batch_size=batch_size, shuffle=True)"
   ]
  },
  {
   "cell_type": "code",
   "execution_count": null,
   "metadata": {},
   "outputs": [],
   "source": [
    "model = models.segmentation.fcn_resnet50(\n",
    "    weights=None,\n",
    "    weights_backbone=models.ResNet50_Weights.IMAGENET1K_V2, \n",
    "    num_classes=49,\n",
    "    aux_loss=True\n",
    ").to(device)\n",
    "model"
   ]
  },
  {
   "cell_type": "code",
   "execution_count": null,
   "metadata": {},
   "outputs": [],
   "source": [
    "def criterion(inputs, target):\n",
    "    losses = {}\n",
    "    for name, x in inputs.items():\n",
    "        losses[name] = nn.functional.cross_entropy(x, target)\n",
    "\n",
    "    if len(losses) == 1:\n",
    "        return losses[\"out\"]\n",
    "\n",
    "    return losses[\"out\"] + 0.5 * losses[\"aux\"]"
   ]
  },
  {
   "cell_type": "code",
   "execution_count": null,
   "metadata": {},
   "outputs": [],
   "source": [
    "params_to_optimize = [\n",
    "    {\"params\": [p for p in model.backbone.parameters() if p.requires_grad]},\n",
    "    {\"params\": [p for p in model.classifier.parameters() if p.requires_grad]},\n",
    "]\n",
    "\n",
    "params = [p for p in model.aux_classifier.parameters() if p.requires_grad]\n",
    "params_to_optimize.append({\"params\": params, \"lr\": lr * 10})\n",
    "\n",
    "optimizer = torch.optim.SGD(params_to_optimize, lr=lr, momentum=0.9, weight_decay=1e-4)"
   ]
  },
  {
   "cell_type": "code",
   "execution_count": null,
   "metadata": {},
   "outputs": [],
   "source": [
    "for epoch in range(1):\n",
    "    print(epoch)\n",
    "    for imgs, targets in dataloader:\n",
    "        imgs, targets = imgs.to(device), targets.to(device)\n",
    "        \n",
    "        output = model(imgs)\n",
    "        loss = criterion(output, targets.long())\n",
    "\n",
    "        optimizer.zero_grad()\n",
    "        loss.backward()\n",
    "        optimizer.step()\n",
    "\n",
    "    print(loss.item())\n"
   ]
  },
  {
   "attachments": {},
   "cell_type": "markdown",
   "metadata": {},
   "source": [
    "## Evaluation"
   ]
  },
  {
   "cell_type": "code",
   "execution_count": null,
   "metadata": {},
   "outputs": [],
   "source": [
    "imgs, targets = next(iter(dataloader))\n",
    "# imgs, targets = img.to(device), targets.to(device)\n",
    "\n",
    "outputs = model(imgs.to(device))"
   ]
  },
  {
   "cell_type": "code",
   "execution_count": null,
   "metadata": {},
   "outputs": [],
   "source": [
    "imgs.size(0)"
   ]
  },
  {
   "cell_type": "code",
   "execution_count": null,
   "metadata": {},
   "outputs": [],
   "source": [
    "output = outputs['out']\n",
    "output.shape"
   ]
  },
  {
   "cell_type": "code",
   "execution_count": null,
   "metadata": {},
   "outputs": [],
   "source": [
    "output = output.cpu().detach().numpy()\n",
    "output_predictions = output.argmax(1)\n",
    "output_predictions.shape\n",
    "bg = torch.zeros_like(targets)"
   ]
  },
  {
   "cell_type": "code",
   "execution_count": null,
   "metadata": {},
   "outputs": [],
   "source": [
    "jaccard = torchmetrics.JaccardIndex(task=\"multiclass\", num_classes=49\n",
    "                                    , average='micro'\n",
    "                                    )\n",
    "\n",
    "output_predictions = bg\n",
    "print(jaccard(torch.Tensor(output_predictions), targets).item())\n",
    "\n",
    "s = 0.0\n",
    "for i in range(8):\n",
    "    j = jaccard(torch.Tensor(output_predictions[i]), targets[i]).item()\n",
    "    s += j\n",
    "\n",
    "s / 8"
   ]
  },
  {
   "cell_type": "code",
   "execution_count": null,
   "metadata": {},
   "outputs": [],
   "source": [
    "plt.imshow(imgs[0].permute(1,2,0))"
   ]
  },
  {
   "cell_type": "code",
   "execution_count": null,
   "metadata": {},
   "outputs": [],
   "source": [
    "plt.imshow(output_predictions[0])\n",
    "output_predictions[0]"
   ]
  },
  {
   "cell_type": "code",
   "execution_count": null,
   "metadata": {},
   "outputs": [],
   "source": [
    "plt.imshow(targets[0])"
   ]
  },
  {
   "attachments": {},
   "cell_type": "markdown",
   "metadata": {},
   "source": [
    "## Inference"
   ]
  },
  {
   "cell_type": "code",
   "execution_count": 323,
   "metadata": {},
   "outputs": [],
   "source": [
    "model_path = '/Users/louis/Files/deep-learning/Deep-Learning-VQA/segmentation/output/fcn_resnet50_jaccard_0.1826/fcn_resnet50_best.pth'\n",
    "\n",
    "model = models.segmentation.fcn_resnet50(num_classes=49, aux_loss=True)\n",
    "\n",
    "model.load_state_dict(torch.load(model_path, map_location='cpu'))\n",
    "model = model.to(device)"
   ]
  },
  {
   "cell_type": "code",
   "execution_count": 347,
   "metadata": {},
   "outputs": [
    {
     "data": {
      "text/plain": [
       "(8, 160, 240)"
      ]
     },
     "execution_count": 347,
     "metadata": {},
     "output_type": "execute_result"
    }
   ],
   "source": [
    "imgs, targets = next(iter(dataloader))\n",
    "imgs = imgs.to(device)\n",
    "\n",
    "outputs = model(imgs)\n",
    "outs = outputs['out'].cpu().detach().numpy()\n",
    "out_pred = outs.argmax(1)\n",
    "out_pred.shape"
   ]
  },
  {
   "cell_type": "code",
   "execution_count": 348,
   "metadata": {},
   "outputs": [
    {
     "data": {
      "text/plain": [
       "array([ 0,  6, 19, 22, 23, 24, 26, 39])"
      ]
     },
     "execution_count": 348,
     "metadata": {},
     "output_type": "execute_result"
    },
    {
     "data": {
      "image/png": "[encoded data removed]",
      "text/plain": [
       "<Figure size 640x480 with 1 Axes>"
      ]
     },
     "metadata": {},
     "output_type": "display_data"
    }
   ],
   "source": [
    "plt.imshow(out_pred[0])\n",
    "out_pred.max()\n",
    "np.unique(out_pred[0])"
   ]
  },
  {
   "cell_type": "code",
   "execution_count": 349,
   "metadata": {},
   "outputs": [
    {
     "data": {
      "text/plain": [
       "array([ 0, 14, 24, 38, 42], dtype=uint8)"
      ]
     },
     "execution_count": 349,
     "metadata": {},
     "output_type": "execute_result"
    },
    {
     "data": {
      "image/png": "[encoded data removed]",
      "text/plain": [
       "<Figure size 640x480 with 1 Axes>"
      ]
     },
     "metadata": {},
     "output_type": "display_data"
    }
   ],
   "source": [
    "plt.imshow(targets[0].cpu())\n",
    "np.unique(targets[0])"
   ]
  },
  {
   "cell_type": "code",
   "execution_count": 350,
   "metadata": {},
   "outputs": [
    {
     "data": {
      "image/png": "[encoded data removed]",
      "text/plain": [
       "<PIL.Image.Image image mode=RGB size=240x160>"
      ]
     },
     "execution_count": 350,
     "metadata": {},
     "output_type": "execute_result"
    }
   ],
   "source": [
    "transformtoPIL = transforms.ToPILImage()\n",
    "def unnormalize(img):\n",
    "    #unnormalize the image\n",
    "    for t, m, s in zip(img, [0.485, 0.456, 0.406], [0.229, 0.224, 0.225]):\n",
    "        t.mul_(s).add_(m)\n",
    "    img = transformtoPIL(img)\n",
    "    return img\n",
    "\n",
    "unnormalize(imgs[0])"
   ]
  },
  {
   "cell_type": "code",
   "execution_count": null,
   "metadata": {},
   "outputs": [],
   "source": []
  },
  {
   "cell_type": "code",
   "execution_count": null,
   "metadata": {},
   "outputs": [],
   "source": []
  }
 ],
 "metadata": {
  "kernelspec": {
   "display_name": "dl",
   "language": "python",
   "name": "python3"
  },
  "language_info": {
   "codemirror_mode": {
    "name": "ipython",
    "version": 3
   },
   "file_extension": ".py",
   "mimetype": "text/x-python",
   "name": "python",
   "nbconvert_exporter": "python",
   "pygments_lexer": "ipython3",
   "version": "3.10.9"
  },
  "orig_nbformat": 4
 },
 "nbformat": 4,
 "nbformat_minor": 2
}
