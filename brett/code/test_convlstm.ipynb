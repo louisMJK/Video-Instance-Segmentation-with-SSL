{
 "cells": [
  {
   "cell_type": "code",
   "execution_count": 13,
   "metadata": {},
   "outputs": [],
   "source": [
    "import numpy as np\n",
    "import matplotlib.pyplot as plt\n",
    "from torch.utils.data import Dataset, DataLoader\n",
    "import torch.nn as nn\n",
    "import torch"
   ]
  },
  {
   "cell_type": "code",
   "execution_count": 14,
   "metadata": {},
   "outputs": [],
   "source": [
    "device = 'mps'\n",
    "class ConvLSTM(nn.Module):\n",
    "    def __init__(self, input_channel, num_filter, b_h_w, kernel_size, stride=1, padding=1, seq_len=11):\n",
    "        super().__init__()\n",
    "        self._conv = nn.Conv2d(in_channels=input_channel + num_filter,\n",
    "                               out_channels=num_filter*4,\n",
    "                               kernel_size=kernel_size,\n",
    "                               stride=stride,\n",
    "                               padding=padding)\n",
    "        self._batch_size, self._state_height, self._state_width = b_h_w\n",
    "        # if using requires_grad flag, torch.save will not save parameters in deed although it may be updated every epoch.\n",
    "        # Howerver, if you use declare an optimizer like Adam(model.parameters()),\n",
    "        # parameters will not be updated forever.\n",
    "        self.Wci = nn.Parameter(torch.zeros(1, num_filter, self._state_height, self._state_width)).to(device)\n",
    "        self.Wcf = nn.Parameter(torch.zeros(1, num_filter, self._state_height, self._state_width)).to(device)\n",
    "        self.Wco = nn.Parameter(torch.zeros(1, num_filter, self._state_height, self._state_width)).to(device)\n",
    "        self._input_channel = input_channel\n",
    "        self._num_filter = num_filter\n",
    "        self.seq_len = seq_len\n",
    "\n",
    "    # inputs and states should not be all none\n",
    "    # inputs: S*B*C*H*W\n",
    "    def forward(self, inputs=None, states=None):\n",
    "        inputs = inputs.permute(1, 0, 2, 3, 4) #from B*S*C*H*W convert to S*B*C*H*W\n",
    "        seq_len = self.seq_len if inputs is None else inputs.size(0)\n",
    "        if states is None:\n",
    "            c = torch.zeros((inputs.size(1), self._num_filter, self._state_height,\n",
    "                                  self._state_width), dtype=torch.float).to(device)\n",
    "            h = torch.zeros((inputs.size(1), self._num_filter, self._state_height,\n",
    "                             self._state_width), dtype=torch.float).to(device)\n",
    "        else:\n",
    "            h, c = states\n",
    "\n",
    "        outputs = []\n",
    "        for index in range(seq_len):\n",
    "            # initial inputs\n",
    "            if inputs is None:\n",
    "                x = torch.zeros((h.size(0), self._input_channel, self._state_height,\n",
    "                                      self._state_width), dtype=torch.float).to(device)\n",
    "            else:\n",
    "                x = inputs[index, ...]\n",
    "            cat_x = torch.cat([x, h], dim=1)\n",
    "            conv_x = self._conv(cat_x)\n",
    "\n",
    "            i, f, tmp_c, o = torch.chunk(conv_x, 4, dim=1)\n",
    "\n",
    "            i = torch.sigmoid(i+self.Wci*c)\n",
    "            f = torch.sigmoid(f+self.Wcf*c)\n",
    "            c = f*c + i*torch.tanh(tmp_c)\n",
    "            o = torch.sigmoid(o+self.Wco*c)\n",
    "            h = o*torch.tanh(c)\n",
    "            outputs.append(h)\n",
    "        return torch.stack(outputs), (h, c)"
   ]
  },
  {
   "cell_type": "code",
   "execution_count": 15,
   "metadata": {},
   "outputs": [],
   "source": [
    "class Predictor(nn.Module):\n",
    "    def __init__(self, input_channel, num_filter, b_h_w, kernel_size,out_channels = 3, stride= 1, padding= 1 ):\n",
    "        super().__init__()\n",
    "        self.input_channel = input_channel\n",
    "        self.num_filter = num_filter\n",
    "        self.b_h_w = b_h_w\n",
    "        self.kernel_size = kernel_size\n",
    "        self.stride = stride\n",
    "        self.padding = padding\n",
    "        self.convlstm = ConvLSTM(input_channel, num_filter, b_h_w, kernel_size, stride, padding)\n",
    "        self.conv = nn.Conv2d(in_channels=num_filter, out_channels = out_channels, kernel_size=1)\n",
    "    def forward(self, inputs=None, states=None, seq_len=11):\n",
    "        _, states = self.convlstm(inputs)\n",
    "        output = self.conv(states[0])\n",
    "        return output\n"
   ]
  },
  {
   "cell_type": "code",
   "execution_count": 16,
   "metadata": {},
   "outputs": [],
   "source": [
    "import os\n",
    "import numpy as np\n",
    "import torchvision.transforms as transforms\n",
    "from PIL import Image\n",
    "class Unlabledtrainpred(Dataset):\n",
    "    def __init__(self, root='../../dataset/unlabeled/', transform=transforms.ToTensor()):\n",
    "        self.root = root\n",
    "        self.transform = transform\n",
    "        self.vid_list = sorted([f for f in os.listdir(root) if f.startswith('video')])\n",
    "        self.img_list = ['image_' + str(i) + '.png' for i in range(11)]\n",
    "        self.target_img = 'image_21.png' # 21 is the target image\n",
    "        self.data_dir = root\n",
    "                    \n",
    "    def __len__(self):\n",
    "        return len(self.vid_list)\n",
    "\n",
    "    def __getitem__(self, idx):\n",
    "        video = self.vid_list[idx]\n",
    "        imgs = []\n",
    "        for index in self.img_list:\n",
    "            img_path  = os.path.join(self.data_dir, video, index)\n",
    "            img = Image.open(img_path).convert(\"RGB\")\n",
    "            if self.transform is not None:\n",
    "                img = self.transform(img)\n",
    "            imgs.append(img)\n",
    "        target_img_path = os.path.join(self.data_dir, video, self.target_img)\n",
    "        target_img = Image.open(target_img_path).convert(\"RGB\")\n",
    "        if self.transform is not None:\n",
    "            target_img = self.transform(target_img)\n",
    "        return torch.stack(imgs), target_img"
   ]
  },
  {
   "cell_type": "code",
   "execution_count": 17,
   "metadata": {},
   "outputs": [],
   "source": [
    "batch_size = 16\n",
    "model = Predictor(3, 9, (batch_size, 160, 240), 3).to(device)"
   ]
  },
  {
   "cell_type": "code",
   "execution_count": 18,
   "metadata": {},
   "outputs": [],
   "source": [
    "criterion = nn.MSELoss()\n",
    "optimizer = torch.optim.Adam(model.parameters(), lr=0.001)"
   ]
  },
  {
   "cell_type": "code",
   "execution_count": 19,
   "metadata": {},
   "outputs": [],
   "source": [
    "dataset = Unlabledtrainpred()\n",
    "dataloader = DataLoader(\n",
    "        dataset, \n",
    "        batch_size=batch_size,\n",
    "        shuffle=True)"
   ]
  },
  {
   "cell_type": "code",
   "execution_count": 20,
   "metadata": {},
   "outputs": [
    {
     "name": "stderr",
     "output_type": "stream",
     "text": [
      "  0%|          | 0/5 [23:34<?, ?it/s]\n"
     ]
    },
    {
     "ename": "KeyboardInterrupt",
     "evalue": "",
     "output_type": "error",
     "traceback": [
      "\u001b[0;31m---------------------------------------------------------------------------\u001b[0m",
      "\u001b[0;31mKeyboardInterrupt\u001b[0m                         Traceback (most recent call last)",
      "Cell \u001b[0;32mIn[20], line 11\u001b[0m\n\u001b[1;32m      9\u001b[0m loss \u001b[39m=\u001b[39m cirterion(output, target)\n\u001b[1;32m     10\u001b[0m optimizer\u001b[39m.\u001b[39mzero_grad()\n\u001b[0;32m---> 11\u001b[0m loss\u001b[39m.\u001b[39;49mbackward()\n\u001b[1;32m     12\u001b[0m optimizer\u001b[39m.\u001b[39mstep()\n\u001b[1;32m     13\u001b[0m total_loss \u001b[39m+\u001b[39m\u001b[39m=\u001b[39m loss\u001b[39m.\u001b[39mitem()\n",
      "File \u001b[0;32m~/opt/anaconda3/envs/dl-torch/lib/python3.8/site-packages/torch/_tensor.py:396\u001b[0m, in \u001b[0;36mTensor.backward\u001b[0;34m(self, gradient, retain_graph, create_graph, inputs)\u001b[0m\n\u001b[1;32m    387\u001b[0m \u001b[39mif\u001b[39;00m has_torch_function_unary(\u001b[39mself\u001b[39m):\n\u001b[1;32m    388\u001b[0m     \u001b[39mreturn\u001b[39;00m handle_torch_function(\n\u001b[1;32m    389\u001b[0m         Tensor\u001b[39m.\u001b[39mbackward,\n\u001b[1;32m    390\u001b[0m         (\u001b[39mself\u001b[39m,),\n\u001b[0;32m   (...)\u001b[0m\n\u001b[1;32m    394\u001b[0m         create_graph\u001b[39m=\u001b[39mcreate_graph,\n\u001b[1;32m    395\u001b[0m         inputs\u001b[39m=\u001b[39minputs)\n\u001b[0;32m--> 396\u001b[0m torch\u001b[39m.\u001b[39;49mautograd\u001b[39m.\u001b[39;49mbackward(\u001b[39mself\u001b[39;49m, gradient, retain_graph, create_graph, inputs\u001b[39m=\u001b[39;49minputs)\n",
      "File \u001b[0;32m~/opt/anaconda3/envs/dl-torch/lib/python3.8/site-packages/torch/autograd/__init__.py:173\u001b[0m, in \u001b[0;36mbackward\u001b[0;34m(tensors, grad_tensors, retain_graph, create_graph, grad_variables, inputs)\u001b[0m\n\u001b[1;32m    168\u001b[0m     retain_graph \u001b[39m=\u001b[39m create_graph\n\u001b[1;32m    170\u001b[0m \u001b[39m# The reason we repeat same the comment below is that\u001b[39;00m\n\u001b[1;32m    171\u001b[0m \u001b[39m# some Python versions print out the first line of a multi-line function\u001b[39;00m\n\u001b[1;32m    172\u001b[0m \u001b[39m# calls in the traceback and some print out the last line\u001b[39;00m\n\u001b[0;32m--> 173\u001b[0m Variable\u001b[39m.\u001b[39;49m_execution_engine\u001b[39m.\u001b[39;49mrun_backward(  \u001b[39m# Calls into the C++ engine to run the backward pass\u001b[39;49;00m\n\u001b[1;32m    174\u001b[0m     tensors, grad_tensors_, retain_graph, create_graph, inputs,\n\u001b[1;32m    175\u001b[0m     allow_unreachable\u001b[39m=\u001b[39;49m\u001b[39mTrue\u001b[39;49;00m, accumulate_grad\u001b[39m=\u001b[39;49m\u001b[39mTrue\u001b[39;49;00m)\n",
      "\u001b[0;31mKeyboardInterrupt\u001b[0m: "
     ]
    }
   ],
   "source": [
    "from tqdm import tqdm\n",
    "n_epochs = 5\n",
    "for epoch in tqdm(range(n_epochs)):\n",
    "    total_loss = 0\n",
    "    for x, target in dataloader:\n",
    "        x = x.to(device)\n",
    "        target = target.to(device)\n",
    "        output = model(x)\n",
    "        loss = criterion(output, target)\n",
    "        optimizer.zero_grad()\n",
    "        loss.backward()\n",
    "        optimizer.step()\n",
    "        total_loss += loss.item()\n",
    "    print(\"Epoch: {}, Loss: {}\".format(epoch, total_loss/len(dataloader)))\n",
    "        "
   ]
  },
  {
   "cell_type": "code",
   "execution_count": null,
   "metadata": {},
   "outputs": [],
   "source": []
  }
 ],
 "metadata": {
  "kernelspec": {
   "display_name": "Python 3.10.10 ('tensorflow')",
   "language": "python",
   "name": "python3"
  },
  "language_info": {
   "codemirror_mode": {
    "name": "ipython",
    "version": 3
   },
   "file_extension": ".py",
   "mimetype": "text/x-python",
   "name": "python",
   "nbconvert_exporter": "python",
   "pygments_lexer": "ipython3",
   "version": "3.8.16"
  },
  "orig_nbformat": 4,
  "vscode": {
   "interpreter": {
    "hash": "02c980a01c619b9f1f1b5c710d651ca79fb900ce6d5a962e45156e4a48c439dd"
   }
  }
 },
 "nbformat": 4,
 "nbformat_minor": 2
}
