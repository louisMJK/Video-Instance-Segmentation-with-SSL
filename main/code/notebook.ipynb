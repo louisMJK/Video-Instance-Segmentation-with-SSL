{
 "cells": [
  {
   "cell_type": "code",
   "execution_count": 23,
   "metadata": {},
   "outputs": [],
   "source": [
    "import torch\n",
    "from torch import nn\n",
    "import torch.nn.functional as F\n",
    "from torchvision import models\n",
    "from torchinfo import summary\n",
    "\n",
    "import numpy as np\n",
    "import os"
   ]
  },
  {
   "attachments": {},
   "cell_type": "markdown",
   "metadata": {},
   "source": [
    "## Model"
   ]
  },
  {
   "cell_type": "code",
   "execution_count": null,
   "metadata": {},
   "outputs": [],
   "source": [
    "class MultiHeadSelfAttention(nn.Module):\n",
    "    def __init__(self, num_hiddens, num_heads, dropout=0.1):\n",
    "        super().__init__()\n",
    "        assert num_hiddens % num_heads == 0\n",
    "        self.num_heads = num_heads\n",
    "        self.dropout = dropout\n",
    "        qkv_bias = False\n",
    "        self.W_q = nn.LazyLinear(num_hiddens, bias=qkv_bias)\n",
    "        self.W_k = nn.LazyLinear(num_hiddens, bias=qkv_bias)\n",
    "        self.W_v = nn.LazyLinear(num_hiddens, bias=qkv_bias)\n",
    "        self.W_h = nn.Linear(num_hiddens, num_hiddens)\n",
    "\n",
    "    def dot_product_attention(self, Q, K, V):\n",
    "        # input shape:  (batch_size, num_heads, num_patches, num_hiddens/num_heads)\n",
    "        # output shape: (batch_size, num_heads, num_patches, num_hiddens/num_heads)\n",
    "        d = Q.shape[-1]\n",
    "        scores = torch.matmul(Q, K.transpose(-2,-1)) / np.sqrt(d)  # (batch_size, num_heads, num_patches, num_patches)\n",
    "        A = nn.Softmax(dim=-1)(scores)\n",
    "        H = torch.matmul(nn.Dropout(self.dropout)(A), V)  # (batch_size, num_heads, num_patches, num_hiddens/num_heads)\n",
    "        return H\n",
    "    \n",
    "    def split_heads(self, X):\n",
    "        # input:  (batch_size, num_patches, num_hiddens)\n",
    "        # output: (batch_size, num_heads, num_patches, num_hiddens/num_heads)\n",
    "        return X.reshape(X.shape[0], X.shape[1], self.num_heads, -1).transpose(1, 2)\n",
    "    \n",
    "    def concat_heads(self, X):\n",
    "        # input:  (batch_size, num_heads, num_patches, num_hiddens/num_heads)\n",
    "        # output: (batch_size, num_patches, num_hiddens)\n",
    "        X = X.transpose(1,2)\n",
    "        return X.reshape(X.shape[0], X.shape[1], -1)\n",
    "\n",
    "    def forward(self, X):\n",
    "        # input shape:  (batch_size, num_patches, in_hiddens)\n",
    "        # return shape: (batch_size,)\n",
    "        Q = self.split_heads(self.W_q(X))  # (batch_size, num_heads, num_patches, num_hiddens/num_heads)\n",
    "        K = self.split_heads(self.W_k(X))\n",
    "        V = self.split_heads(self.W_v(X))\n",
    "        H = self.dot_product_attention(Q, K, V)  # (batch_size, num_heads, num_patches, num_hiddens/num_heads)\n",
    "        H = self.W_h(self.concat_heads(H))  # (batch_size, num_patches, num_hiddens)\n",
    "        return H\n",
    "\n",
    "\n",
    "class TransformerBlock(nn.Module):\n",
    "    def __init__(self, num_hiddens, num_heads, mlp_hiddens, dropout):\n",
    "        super().__init__()\n",
    "        self.norm1 = nn.LayerNorm(num_hiddens)\n",
    "        self.attention = MultiHeadSelfAttention(num_hiddens, num_heads, dropout)\n",
    "        self.norm2 = nn.LayerNorm(num_hiddens)\n",
    "        self.mlp = nn.Sequential(\n",
    "            nn.Linear(num_hiddens, mlp_hiddens),\n",
    "            nn.GELU(),\n",
    "            nn.Dropout(dropout),\n",
    "            nn.Linear(mlp_hiddens, num_hiddens),\n",
    "            nn.Dropout(dropout)\n",
    "        )\n",
    "    \n",
    "    def forward(self, X):\n",
    "        X = X + self.attention(self.norm1(X))\n",
    "        X = X + self.mlp(self.norm2(X))\n",
    "        return X\n",
    "\n",
    "\n",
    "class Predictor(nn.Module): \n",
    "    def __init__(self, num_hiddens = 512, num_heads = 8, mlp_hiddens = 2048, dropout = 0.1, in_size = (11, 3072, 20, 30), num_layers = 2):\n",
    "        super().__init__()\n",
    "        self.num_hiddens = num_hiddens\n",
    "        T_, C_, H_, W_ = in_size\n",
    "        self.transformer = nn.Sequential()\n",
    "        for i in range(num_layers):\n",
    "            self.transformer.add_module(f\"{i}\", TransformerBlock(num_hiddens, num_heads, mlp_hiddens, dropout))\n",
    "        self.linear1 = nn.Linear(C_, self.num_hiddens)\n",
    "        self.linear2 = nn.Linear(self.num_hiddens, C_)\n",
    "        self.linear3 = nn.Linear(T_*H_*W_, H_*W_)\n",
    "        self.relu = nn.ReLU()\n",
    "        self.pos_embedding = nn.Parameter(0.02 * torch.randn(1, T_*H_*W_, num_hiddens))\n",
    "\n",
    "\n",
    "    def forward(self, X):\n",
    "        B, T, C, H, W = X.shape\n",
    "        # B * 11 * 2048 * 5 * 8 to B * 440 * 2048\n",
    "        X = X.permute(0,2,1,3,4).reshape(B, C, T*H*W).permute(0,2,1)\n",
    "\n",
    "        # B * 440 * 2048 to B * 440 * 512\n",
    "        X = self.linear1(X)\n",
    "        #add positional embedding\n",
    "        X = X + self.pos_embedding\n",
    "        X = self.transformer(X)\n",
    "\n",
    "        # B * 440 * 512 to B * 440 * 2048\n",
    "        X = self.linear2(X)\n",
    "        X = self.relu(X)\n",
    "        # B * 440 * 2048 to B * 2048 * 40\n",
    "        X = X.permute(0,2,1)\n",
    "        X = self.linear3(X)\n",
    "        X = X.reshape(B, C, H, W)\n",
    "        return X"
   ]
  },
  {
   "cell_type": "code",
   "execution_count": null,
   "metadata": {},
   "outputs": [],
   "source": [
    "class VideoInstanceSeg(nn.Module):\n",
    "    def __init__(self):\n",
    "        super().__init__()\n",
    "        resnet = models.resnet50(replace_stride_with_dilation=[False, True, True])\n",
    "        self.resnet_aux = nn.Sequential(*list(resnet.children())[:-3])\n",
    "        self.layer4 = list(resnet.children())[-3]\n",
    "        self.predictor = Predictor()\n",
    "        self.classifier = nn.Sequential(\n",
    "            nn.Conv2d(2048, 512, kernel_size=(3, 3), stride=(1, 1), padding=(1, 1), bias=False),\n",
    "            nn.BatchNorm2d(512, eps=1e-05, momentum=0.1, affine=True, track_running_stats=True),\n",
    "            nn.ReLU(),\n",
    "            nn.Dropout(p=0.1),\n",
    "            nn.Conv2d(512, 49, kernel_size=(1, 1), stride=(1, 1)),\n",
    "        )\n",
    "        self.aux_classifier = nn.Sequential(\n",
    "            nn.Conv2d(1024, 256, kernel_size=(3, 3), stride=(1, 1), padding=(1, 1), bias=False),\n",
    "            nn.BatchNorm2d(256, eps=1e-05, momentum=0.1, affine=True, track_running_stats=True),\n",
    "            nn.ReLU(),\n",
    "            nn.Dropout(p=0.1),\n",
    "            nn.Conv2d(256, 49, kernel_size=(1, 1), stride=(1, 1)),\n",
    "        )\n",
    "    \n",
    "    def forward(self, x):\n",
    "        # x shape: (B, 11, 3, H, W)\n",
    "        B = x.shape[0]\n",
    "        x = x.reshape(B * 11, 3, 160, 240)\n",
    "\n",
    "        x1 = self.resnet_aux(x) # (B * 11, 1024, 20, 30)\n",
    "        x2 = self.layer4(x1)    # (B * 11, 2048, 20, 30)\n",
    "        x = torch.cat([x1, x2], dim=1).reshape(B, 11, 3072, 20, 30)\n",
    "\n",
    "        x = self.predictor(x)\n",
    "\n",
    "        x1 = x[:, :1024, :, :]\n",
    "        x2 = x[:, 1024:, :, :]\n",
    "\n",
    "        x1 = self.aux_classifier(x1)\n",
    "        x2 = self.classifier(x2)\n",
    "\n",
    "        y = {}\n",
    "        y['out'] = F.interpolate(x2, size=(160, 240), mode=\"bilinear\", align_corners=False)\n",
    "        y['aux'] = F.interpolate(x1, size=(160, 240), mode=\"bilinear\", align_corners=False)\n",
    "        return y\n",
    "\n",
    "model = VideoInstanceSeg()"
   ]
  },
  {
   "cell_type": "code",
   "execution_count": null,
   "metadata": {},
   "outputs": [],
   "source": [
    "backbone_dir = '/Users/louis/Files/deep-learning/Deep-Learning-VQA/ssl/output/backbone-resnet50-0.9167/resnet50_best.pth'\n",
    "\n",
    "# load backbone\n",
    "resnet = models.resnet50(replace_stride_with_dilation=[False, True, True])\n",
    "backbone = nn.Sequential(*list(resnet.children())[:-2])\n",
    "backbone.load_state_dict(torch.load(backbone_dir, map_location='cpu'), strict=True)\n",
    "model.resnet_aux.load_state_dict(backbone[:-1].state_dict())\n",
    "model.layer4.load_state_dict(backbone[-1].state_dict())"
   ]
  },
  {
   "cell_type": "code",
   "execution_count": null,
   "metadata": {},
   "outputs": [],
   "source": [
    "fcn_dir = '/Users/louis/Files/deep-learning/Deep-Learning-VQA/segmentation/output/fcn_resnet50_jaccard_0.9204/'\n",
    "\n",
    "model.classifier.load_state_dict(torch.load(fcn_dir + 'classifier.pth', map_location='cpu'), strict=True)\n",
    "model.aux_classifier.load_state_dict(torch.load(fcn_dir + 'aux_classifier.pth', map_location='cpu'), strict=True)"
   ]
  },
  {
   "cell_type": "code",
   "execution_count": null,
   "metadata": {},
   "outputs": [],
   "source": [
    "nn.Sequential(\n",
    "    nn.Linear(11, 512), \n",
    "    nn.ReLU(), \n",
    "    nn.Linear(512, 512), \n",
    "    nn.ReLU(),\n",
    "    nn.Linear(512, 1)\n",
    ")"
   ]
  },
  {
   "cell_type": "code",
   "execution_count": null,
   "metadata": {},
   "outputs": [],
   "source": [
    "3072 * 600 * 11 / 1e6"
   ]
  },
  {
   "attachments": {},
   "cell_type": "markdown",
   "metadata": {},
   "source": [
    "## Data"
   ]
  },
  {
   "cell_type": "code",
   "execution_count": null,
   "metadata": {},
   "outputs": [],
   "source": [
    "from transforms import SegmentationTrainTransform\n",
    "from data import ImagesToMaskDataset\n",
    "\n",
    "data_dir = '/Users/louis/Files/deep-learning/Deep-Learning-VQA/dataset'\n",
    "\n",
    "transform_train = SegmentationTrainTransform()\n",
    "dataset_train = ImagesToMaskDataset(os.path.join(data_dir, 'train'), transform_train)"
   ]
  },
  {
   "cell_type": "code",
   "execution_count": null,
   "metadata": {},
   "outputs": [],
   "source": [
    "dataset_train[0][0].shape"
   ]
  },
  {
   "cell_type": "code",
   "execution_count": null,
   "metadata": {},
   "outputs": [],
   "source": [
    "loader_train = torch.utils.data.DataLoader(\n",
    "        dataset_train,\n",
    "        batch_size=8,\n",
    "        shuffle=True,\n",
    ")"
   ]
  },
  {
   "cell_type": "code",
   "execution_count": null,
   "metadata": {},
   "outputs": [],
   "source": [
    "imgs, targets = next(iter(loader_train))\n",
    "\n",
    "print(imgs.shape, targets.shape)"
   ]
  },
  {
   "cell_type": "code",
   "execution_count": null,
   "metadata": {},
   "outputs": [],
   "source": [
    "y = model(imgs)"
   ]
  },
  {
   "cell_type": "code",
   "execution_count": null,
   "metadata": {},
   "outputs": [],
   "source": [
    "y.shape"
   ]
  },
  {
   "cell_type": "code",
   "execution_count": null,
   "metadata": {},
   "outputs": [],
   "source": [
    "x = torch.zeros(1, 2048, 3, 4)\n",
    "y = torch.zeros(1, 1024, 3, 4)\n",
    "torch.cat([x, y], dim=1).shape"
   ]
  },
  {
   "cell_type": "code",
   "execution_count": null,
   "metadata": {},
   "outputs": [],
   "source": []
  },
  {
   "cell_type": "code",
   "execution_count": null,
   "metadata": {},
   "outputs": [],
   "source": [
    "from torchvision import models\n",
    "\n",
    "fcn_resnet = models.segmentation.fcn_resnet50(aux_loss=True)\n",
    "fcn_resnet"
   ]
  },
  {
   "cell_type": "code",
   "execution_count": null,
   "metadata": {},
   "outputs": [],
   "source": [
    "layer = nn.Sequential(\n",
    "    nn.Conv2d(2048, 512, kernel_size=(3, 3), stride=(1, 1), padding=(1, 1), bias=False),\n",
    "    nn.BatchNorm2d(512, eps=1e-05, momentum=0.1, affine=True, track_running_stats=True),\n",
    "    nn.ReLU(),\n",
    "    nn.Dropout(p=0.1),\n",
    "    nn.Conv2d(512, 49, kernel_size=(1, 1), stride=(1, 1)),\n",
    ")"
   ]
  },
  {
   "cell_type": "code",
   "execution_count": null,
   "metadata": {},
   "outputs": [],
   "source": [
    "\n",
    "layer(x).shape"
   ]
  },
  {
   "cell_type": "code",
   "execution_count": null,
   "metadata": {},
   "outputs": [],
   "source": [
    "import torch.nn.functional as F\n",
    "\n",
    "x = torch.randn((1, 49, 20, 30))\n",
    "\n",
    "y = F.interpolate(x, size=(160, 240), mode=\"bilinear\", align_corners=False)"
   ]
  },
  {
   "cell_type": "code",
   "execution_count": null,
   "metadata": {},
   "outputs": [],
   "source": [
    "y.shape"
   ]
  },
  {
   "cell_type": "code",
   "execution_count": null,
   "metadata": {},
   "outputs": [],
   "source": [
    "resnet = models.resnet50(replace_stride_with_dilation=[False, True, True])"
   ]
  },
  {
   "cell_type": "code",
   "execution_count": null,
   "metadata": {},
   "outputs": [],
   "source": [
    "summary(resnet, input_size=(1, 3, 160, 240))"
   ]
  },
  {
   "cell_type": "code",
   "execution_count": null,
   "metadata": {},
   "outputs": [],
   "source": [
    "resnet_aux = nn.Sequential(*list(resnet.children())[:-3])"
   ]
  },
  {
   "cell_type": "code",
   "execution_count": null,
   "metadata": {},
   "outputs": [],
   "source": [
    "summary(resnet_aux, input_size=(1, 3, 160, 240))"
   ]
  },
  {
   "cell_type": "code",
   "execution_count": null,
   "metadata": {},
   "outputs": [],
   "source": [
    "list(resnet.children())[-3]\n",
    "resnet.layer4"
   ]
  },
  {
   "attachments": {},
   "cell_type": "markdown",
   "metadata": {},
   "source": [
    "## Inference"
   ]
  },
  {
   "cell_type": "code",
   "execution_count": 15,
   "metadata": {},
   "outputs": [],
   "source": [
    "class VideoInstanceSeg(nn.Module):\n",
    "    def __init__(self):\n",
    "        super().__init__()\n",
    "        resnet = models.resnet50(replace_stride_with_dilation=[False, True, True])\n",
    "        self.resnet_aux = nn.Sequential(*list(resnet.children())[:-3])\n",
    "        self.layer4 = list(resnet.children())[-3]\n",
    "        self.predictor = Predictor()\n",
    "        self.classifier = nn.Sequential(\n",
    "            nn.Conv2d(2048, 512, kernel_size=(3, 3), stride=(1, 1), padding=(1, 1), bias=False),\n",
    "            nn.BatchNorm2d(512, eps=1e-05, momentum=0.1, affine=True, track_running_stats=True),\n",
    "            nn.ReLU(),\n",
    "            nn.Dropout(p=0.1),\n",
    "            nn.Conv2d(512, 49, kernel_size=(1, 1), stride=(1, 1)),\n",
    "        )\n",
    "        self.aux_classifier = nn.Sequential(\n",
    "            nn.Conv2d(1024, 256, kernel_size=(3, 3), stride=(1, 1), padding=(1, 1), bias=False),\n",
    "            nn.BatchNorm2d(256, eps=1e-05, momentum=0.1, affine=True, track_running_stats=True),\n",
    "            nn.ReLU(),\n",
    "            nn.Dropout(p=0.1),\n",
    "            nn.Conv2d(256, 49, kernel_size=(1, 1), stride=(1, 1)),\n",
    "        )\n",
    "    \n",
    "    def forward(self, x):\n",
    "        # x shape: (B, 11, 3, H, W)\n",
    "        B = x.shape[0]\n",
    "        x = x.view(B * 11, 3, 160, 240)\n",
    "\n",
    "        x1 = self.resnet_aux(x) # (B * 11, 1024, 20, 30)\n",
    "        x2 = self.layer4(x1)    # (B * 11, 2048, 20, 30)\n",
    "\n",
    "        x = torch.cat([x1, x2], dim=1).view(B, 11, 3072, 20, 30)\n",
    "\n",
    "        x = self.predictor(x)\n",
    "\n",
    "        x1 = x[:, :1024, :, :]\n",
    "        x2 = x[:, 1024:, :, :]\n",
    "\n",
    "        x1 = self.aux_classifier(x1)\n",
    "        x2 = self.classifier(x2)\n",
    "\n",
    "        y = {}\n",
    "        y['out'] = F.interpolate(x2, size=(160, 240), mode=\"bilinear\", align_corners=False)\n",
    "        y['aux'] = F.interpolate(x1, size=(160, 240), mode=\"bilinear\", align_corners=False)\n",
    "        return y\n",
    "\n",
    "\n",
    "\n",
    "class Predictor(nn.Module):\n",
    "    def __init__(self, num_hiddens = 256, num_heads = 4, mlp_hiddens = 1024, dropout = 0.1, in_size = (11, 3072, 20, 30), num_layers = 1):\n",
    "        super().__init__()\n",
    "        self.fc = nn.Sequential(\n",
    "            nn.Linear(11, 64),\n",
    "            nn.ReLU(),\n",
    "            nn.Linear(64, 1)\n",
    "        )\n",
    "\n",
    "    def forward(self, x):\n",
    "        B, T, C, H, W = x.shape\n",
    "        # B * 11 * 2048 * 5 * 8 to B * 440 * 2048\n",
    "\n",
    "        x = x.permute(0,2,3,4,1)\n",
    "\n",
    "        x = self.fc(x).squeeze(-1)\n",
    "\n",
    "        return x"
   ]
  },
  {
   "cell_type": "code",
   "execution_count": 103,
   "metadata": {},
   "outputs": [],
   "source": [
    "class VideoInstanceSeg(nn.Module):\n",
    "    def __init__(self):\n",
    "        super().__init__()\n",
    "        resnet = models.resnet50(replace_stride_with_dilation=[False, True, True])\n",
    "        self.resnet_aux = nn.Sequential(*list(resnet.children())[:-3])\n",
    "        self.layer4 = list(resnet.children())[-3]\n",
    "        self.predictor = Predictor()\n",
    "        self.classifier = nn.Sequential(\n",
    "            nn.Conv2d(2048, 512, kernel_size=(3, 3), stride=(1, 1), padding=(1, 1), bias=False),\n",
    "            nn.BatchNorm2d(512, eps=1e-05, momentum=0.1, affine=True, track_running_stats=True),\n",
    "            nn.ReLU(),\n",
    "            nn.Dropout(p=0.1),\n",
    "            nn.Conv2d(512, 49, kernel_size=(1, 1), stride=(1, 1)),\n",
    "        )\n",
    "        self.aux_classifier = nn.Sequential(\n",
    "            nn.Conv2d(1024, 256, kernel_size=(3, 3), stride=(1, 1), padding=(1, 1), bias=False),\n",
    "            nn.BatchNorm2d(256, eps=1e-05, momentum=0.1, affine=True, track_running_stats=True),\n",
    "            nn.ReLU(),\n",
    "            nn.Dropout(p=0.1),\n",
    "            nn.Conv2d(256, 49, kernel_size=(1, 1), stride=(1, 1)),\n",
    "        )\n",
    "    \n",
    "    def forward(self, x):\n",
    "        # x shape: (B, 11, 3, H, W)\n",
    "        B = x.shape[0]\n",
    "        x = x.view(B * 11, 3, 160, 240)\n",
    "\n",
    "        x1 = self.resnet_aux(x) # (B * 11, 1024, 20, 30)\n",
    "        x2 = self.layer4(x1)    # (B * 11, 2048, 20, 30)\n",
    "\n",
    "        x1 = x1.view(B, 11, 1024, 20, 30)\n",
    "        x2 = x2.view(B, 11, 2048, 20, 30)\n",
    "\n",
    "        x1 = self.predictor(x1)\n",
    "        y = self.predictor(x2)\n",
    "        y += x2.mean(dim=1)\n",
    "\n",
    "        x1 = self.aux_classifier(x1)\n",
    "        y = self.classifier(y)\n",
    "\n",
    "        output = {}\n",
    "        output['out'] = F.interpolate(y, size=(160, 240), mode=\"bilinear\", align_corners=False)\n",
    "        output['aux'] = F.interpolate(x1, size=(160, 240), mode=\"bilinear\", align_corners=False)\n",
    "\n",
    "        return output\n",
    "\n",
    "\n",
    "\n",
    "class Predictor(nn.Module):\n",
    "    def __init__(self, num_hiddens = 256, num_heads = 4, mlp_hiddens = 1024, dropout = 0.1, in_size = (11, 3072, 20, 30), num_layers = 1):\n",
    "        super().__init__()\n",
    "        self.fc = nn.Sequential(\n",
    "            nn.Linear(11, 64),\n",
    "            nn.ReLU(),\n",
    "            nn.Linear(64, 1)\n",
    "        )\n",
    "\n",
    "    def forward(self, x):\n",
    "        B, T, C, H, W = x.shape\n",
    "        # B * 11 * 2048 * 5 * 8 to B * 440 * 2048\n",
    "\n",
    "        x = x.permute(0,2,3,4,1)\n",
    "\n",
    "        x = self.fc(x).squeeze(-1)\n",
    "\n",
    "        return x\n"
   ]
  },
  {
   "cell_type": "code",
   "execution_count": 104,
   "metadata": {},
   "outputs": [],
   "source": [
    "model = VideoInstanceSeg()"
   ]
  },
  {
   "cell_type": "code",
   "execution_count": 27,
   "metadata": {},
   "outputs": [],
   "source": [
    "path = '/Users/louis/Files/deep-learning/Deep-Learning-VQA/main/output/model_main/model_best.pth'\n",
    "path = ''\n",
    "\n",
    "device = 'mps'\n",
    "\n",
    "model.load_state_dict(torch.load(path, map_location='cpu'))\n",
    "model = model.to(device)"
   ]
  },
  {
   "cell_type": "code",
   "execution_count": 65,
   "metadata": {},
   "outputs": [],
   "source": [
    "data_dir = '/Users/louis/Files/deep-learning/Deep-Learning-VQA/dataset'\n",
    "\n",
    "from transforms import SegmentationTrainTransform, SegmentationValTransform\n",
    "from data import ImagesToMaskDataset\n",
    "\n",
    "transform_train = SegmentationValTransform()\n",
    "dataset_train = ImagesToMaskDataset(os.path.join(data_dir, 'val'), transform_train)"
   ]
  },
  {
   "cell_type": "code",
   "execution_count": 88,
   "metadata": {},
   "outputs": [],
   "source": [
    "loader_train = torch.utils.data.DataLoader(\n",
    "        dataset_train,\n",
    "        batch_size=1,\n",
    "        shuffle=True,\n",
    ")"
   ]
  },
  {
   "cell_type": "code",
   "execution_count": 92,
   "metadata": {},
   "outputs": [
    {
     "data": {
      "text/plain": [
       "(1, 160, 240)"
      ]
     },
     "execution_count": 92,
     "metadata": {},
     "output_type": "execute_result"
    }
   ],
   "source": [
    "imgs, targets = next(iter(loader_train))\n",
    "imgs = imgs.to(device)\n",
    "\n",
    "outputs = model(imgs)\n",
    "outs = outputs['out'].cpu().detach().numpy()\n",
    "out_pred = outs.argmax(1)\n",
    "out_pred.shape"
   ]
  },
  {
   "cell_type": "code",
   "execution_count": 93,
   "metadata": {},
   "outputs": [
    {
     "data": {
      "text/plain": [
       "array([ 0,  1,  2,  4,  5,  6,  9, 11, 12, 17, 18, 20, 21, 22, 29, 31, 36,\n",
       "       38, 41])"
      ]
     },
     "execution_count": 93,
     "metadata": {},
     "output_type": "execute_result"
    },
    {
     "data": {
      "image/png": "[encoded data removed]",
      "text/plain": [
       "<Figure size 640x480 with 1 Axes>"
      ]
     },
     "metadata": {},
     "output_type": "display_data"
    }
   ],
   "source": [
    "import matplotlib.pyplot as plt\n",
    "\n",
    "plt.imshow(out_pred[0])\n",
    "out_pred.max()\n",
    "np.unique(out_pred[0])"
   ]
  },
  {
   "cell_type": "code",
   "execution_count": 94,
   "metadata": {},
   "outputs": [
    {
     "data": {
      "text/plain": [
       "array([ 0,  5,  7,  9, 10])"
      ]
     },
     "execution_count": 94,
     "metadata": {},
     "output_type": "execute_result"
    },
    {
     "data": {
      "image/png": "[encoded data removed]",
      "text/plain": [
       "<Figure size 640x480 with 1 Axes>"
      ]
     },
     "metadata": {},
     "output_type": "display_data"
    }
   ],
   "source": [
    "plt.imshow(targets[0].cpu())\n",
    "np.unique(targets[0])"
   ]
  },
  {
   "cell_type": "code",
   "execution_count": 95,
   "metadata": {},
   "outputs": [],
   "source": [
    "x1 = torch.zeros((8, 11, 1024, 20, 30))"
   ]
  },
  {
   "cell_type": "code",
   "execution_count": 97,
   "metadata": {},
   "outputs": [
    {
     "data": {
      "text/plain": [
       "torch.Size([8, 1024, 20, 30])"
      ]
     },
     "execution_count": 97,
     "metadata": {},
     "output_type": "execute_result"
    }
   ],
   "source": [
    "x1.mean(dim=1).shape"
   ]
  }
 ],
 "metadata": {
  "kernelspec": {
   "display_name": "dl",
   "language": "python",
   "name": "python3"
  },
  "language_info": {
   "codemirror_mode": {
    "name": "ipython",
    "version": 3
   },
   "file_extension": ".py",
   "mimetype": "text/x-python",
   "name": "python",
   "nbconvert_exporter": "python",
   "pygments_lexer": "ipython3",
   "version": "3.10.9"
  },
  "orig_nbformat": 4
 },
 "nbformat": 4,
 "nbformat_minor": 2
}
